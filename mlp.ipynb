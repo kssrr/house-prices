{
 "cells": [
  {
   "cell_type": "code",
   "execution_count": 46,
   "metadata": {},
   "outputs": [],
   "source": [
    "import pandas as pd\n",
    "import numpy as np\n",
    "import seaborn as sns\n",
    "import matplotlib.pyplot as plt\n",
    "\n",
    "import torch\n",
    "from torch import nn, optim\n",
    "from torch.optim.lr_scheduler import ReduceLROnPlateau\n",
    "from torch.utils.data import DataLoader, TensorDataset\n",
    "import torch.nn.functional as F\n",
    "\n",
    "from sklearn.preprocessing import FunctionTransformer, OneHotEncoder, MinMaxScaler\n",
    "from sklearn.metrics import mean_squared_error, mean_absolute_error, r2_score\n",
    "from sklearn.model_selection import train_test_split\n",
    "from sklearn.compose import ColumnTransformer\n",
    "from sklearn.pipeline import Pipeline\n",
    "from sklearn.experimental import enable_iterative_imputer\n",
    "from sklearn.impute import IterativeImputer\n",
    "from sklearn.linear_model import BayesianRidge"
   ]
  },
  {
   "cell_type": "code",
   "execution_count": 2,
   "metadata": {},
   "outputs": [
    {
     "name": "stdout",
     "output_type": "stream",
     "text": [
      "<class 'pandas.core.frame.DataFrame'>\n",
      "RangeIndex: 1460 entries, 0 to 1459\n",
      "Data columns (total 80 columns):\n",
      " #   Column         Non-Null Count  Dtype  \n",
      "---  ------         --------------  -----  \n",
      " 0   MSSubClass     1460 non-null   int64  \n",
      " 1   MSZoning       1460 non-null   object \n",
      " 2   LotFrontage    1201 non-null   float64\n",
      " 3   LotArea        1460 non-null   int64  \n",
      " 4   Street         1460 non-null   object \n",
      " 5   Alley          91 non-null     object \n",
      " 6   LotShape       1460 non-null   object \n",
      " 7   LandContour    1460 non-null   object \n",
      " 8   Utilities      1460 non-null   object \n",
      " 9   LotConfig      1460 non-null   object \n",
      " 10  LandSlope      1460 non-null   object \n",
      " 11  Neighborhood   1460 non-null   object \n",
      " 12  Condition1     1460 non-null   object \n",
      " 13  Condition2     1460 non-null   object \n",
      " 14  BldgType       1460 non-null   object \n",
      " 15  HouseStyle     1460 non-null   object \n",
      " 16  OverallQual    1460 non-null   int64  \n",
      " 17  OverallCond    1460 non-null   int64  \n",
      " 18  YearBuilt      1460 non-null   int64  \n",
      " 19  YearRemodAdd   1460 non-null   int64  \n",
      " 20  RoofStyle      1460 non-null   object \n",
      " 21  RoofMatl       1460 non-null   object \n",
      " 22  Exterior1st    1460 non-null   object \n",
      " 23  Exterior2nd    1460 non-null   object \n",
      " 24  MasVnrType     588 non-null    object \n",
      " 25  MasVnrArea     1452 non-null   float64\n",
      " 26  ExterQual      1460 non-null   object \n",
      " 27  ExterCond      1460 non-null   object \n",
      " 28  Foundation     1460 non-null   object \n",
      " 29  BsmtQual       1423 non-null   object \n",
      " 30  BsmtCond       1423 non-null   object \n",
      " 31  BsmtExposure   1422 non-null   object \n",
      " 32  BsmtFinType1   1423 non-null   object \n",
      " 33  BsmtFinSF1     1460 non-null   int64  \n",
      " 34  BsmtFinType2   1422 non-null   object \n",
      " 35  BsmtFinSF2     1460 non-null   int64  \n",
      " 36  BsmtUnfSF      1460 non-null   int64  \n",
      " 37  TotalBsmtSF    1460 non-null   int64  \n",
      " 38  Heating        1460 non-null   object \n",
      " 39  HeatingQC      1460 non-null   object \n",
      " 40  CentralAir     1460 non-null   object \n",
      " 41  Electrical     1459 non-null   object \n",
      " 42  1stFlrSF       1460 non-null   int64  \n",
      " 43  2ndFlrSF       1460 non-null   int64  \n",
      " 44  LowQualFinSF   1460 non-null   int64  \n",
      " 45  GrLivArea      1460 non-null   int64  \n",
      " 46  BsmtFullBath   1460 non-null   int64  \n",
      " 47  BsmtHalfBath   1460 non-null   int64  \n",
      " 48  FullBath       1460 non-null   int64  \n",
      " 49  HalfBath       1460 non-null   int64  \n",
      " 50  BedroomAbvGr   1460 non-null   int64  \n",
      " 51  KitchenAbvGr   1460 non-null   int64  \n",
      " 52  KitchenQual    1460 non-null   object \n",
      " 53  TotRmsAbvGrd   1460 non-null   int64  \n",
      " 54  Functional     1460 non-null   object \n",
      " 55  Fireplaces     1460 non-null   int64  \n",
      " 56  FireplaceQu    770 non-null    object \n",
      " 57  GarageType     1379 non-null   object \n",
      " 58  GarageYrBlt    1379 non-null   float64\n",
      " 59  GarageFinish   1379 non-null   object \n",
      " 60  GarageCars     1460 non-null   int64  \n",
      " 61  GarageArea     1460 non-null   int64  \n",
      " 62  GarageQual     1379 non-null   object \n",
      " 63  GarageCond     1379 non-null   object \n",
      " 64  PavedDrive     1460 non-null   object \n",
      " 65  WoodDeckSF     1460 non-null   int64  \n",
      " 66  OpenPorchSF    1460 non-null   int64  \n",
      " 67  EnclosedPorch  1460 non-null   int64  \n",
      " 68  3SsnPorch      1460 non-null   int64  \n",
      " 69  ScreenPorch    1460 non-null   int64  \n",
      " 70  PoolArea       1460 non-null   int64  \n",
      " 71  PoolQC         7 non-null      object \n",
      " 72  Fence          281 non-null    object \n",
      " 73  MiscFeature    54 non-null     object \n",
      " 74  MiscVal        1460 non-null   int64  \n",
      " 75  MoSold         1460 non-null   int64  \n",
      " 76  YrSold         1460 non-null   int64  \n",
      " 77  SaleType       1460 non-null   object \n",
      " 78  SaleCondition  1460 non-null   object \n",
      " 79  SalePrice      1460 non-null   int64  \n",
      "dtypes: float64(3), int64(34), object(43)\n",
      "memory usage: 912.6+ KB\n"
     ]
    }
   ],
   "source": [
    "data = pd.read_csv(\"data/train.csv\")\n",
    "data.drop(\"Id\", axis=1, inplace=True)\n",
    "data.info()"
   ]
  },
  {
   "cell_type": "code",
   "execution_count": 3,
   "metadata": {},
   "outputs": [],
   "source": [
    "missings = pd.DataFrame({\"column\": data.columns, \"missing\": data.isnull().sum() / len(data)}).sort_values(\"missing\", ascending=False).reset_index(drop=True)\n",
    "too_many_missings = missings[missings[\"missing\"] > 0.25][\"column\"].tolist()\n",
    "\n",
    "log_features = [\"1stFlrSF\", \"GrLivArea\", \"LotFrontage\"] # based on visually inspecting distributions\n",
    "\n",
    "categorical = data.select_dtypes(include=\"object\").columns.tolist()\n",
    "\n",
    "# Target-feature relationship:\n",
    "target = \"SalePrice\"\n",
    "features = data.drop(target, axis=1).columns.tolist()"
   ]
  },
  {
   "cell_type": "markdown",
   "metadata": {},
   "source": [
    "Prep pipeline:"
   ]
  },
  {
   "cell_type": "code",
   "execution_count": 4,
   "metadata": {},
   "outputs": [],
   "source": [
    "dropper = FunctionTransformer(func=lambda X: X.drop(too_many_missings, axis=1))\n",
    "\n",
    "one_hot_encoder = ColumnTransformer(\n",
    "    transformers=[\n",
    "        ('one_hot', OneHotEncoder(sparse_output=False, handle_unknown='ignore'), categorical)\n",
    "    ],\n",
    "    remainder='passthrough'  # Keep other columns (numerical ones) unchanged\n",
    ")\n",
    "\n",
    "log_transformer = FunctionTransformer(func=lambda X: X.assign(**{col: np.log1p(X[col]) for col in log_features}))\n",
    "\n",
    "one_hot_encoder = OneHotEncoder(handle_unknown='ignore', sparse_output=False)\n",
    "\n",
    "preprocessor = ColumnTransformer(\n",
    "    transformers=[\n",
    "        ('drop', dropper, too_many_missings),  # Dropping features\n",
    "        ('log', log_transformer, log_features),  # Log transformation\n",
    "        ('onehot', one_hot_encoder, categorical)  # One-hot encoding\n",
    "    ],\n",
    "    remainder='passthrough'  # Leave the rest of the features untouched\n",
    ")\n",
    "\n",
    "# Final pipeline\n",
    "pipeline = Pipeline(steps=[\n",
    "    ('preprocessing', preprocessor),\n",
    "    ('scaling', MinMaxScaler()),\n",
    "    ('imputation', IterativeImputer(estimator=BayesianRidge(), random_state=42, verbose=2,  max_iter=100))\n",
    "])"
   ]
  },
  {
   "cell_type": "code",
   "execution_count": 5,
   "metadata": {},
   "outputs": [
    {
     "name": "stdout",
     "output_type": "stream",
     "text": [
      "[IterativeImputer] Completing matrix with shape (1460, 303)\n",
      "[IterativeImputer] Ending imputation round 1/100, elapsed time 17.99\n",
      "[IterativeImputer] Change: 0.529453544820477, scaled tolerance: 0.001 \n",
      "[IterativeImputer] Ending imputation round 2/100, elapsed time 35.30\n",
      "[IterativeImputer] Change: 0.008038055827025326, scaled tolerance: 0.001 \n",
      "[IterativeImputer] Ending imputation round 3/100, elapsed time 52.06\n",
      "[IterativeImputer] Change: 3.974911990084484e-05, scaled tolerance: 0.001 \n",
      "[IterativeImputer] Early stopping criterion reached.\n"
     ]
    }
   ],
   "source": [
    "X = pipeline.fit_transform(data[features])"
   ]
  },
  {
   "cell_type": "code",
   "execution_count": 6,
   "metadata": {},
   "outputs": [],
   "source": [
    "def prep_target(y: np.array, scaler: MinMaxScaler, fit: bool=False) -> np.array:\n",
    "    logged = np.log1p(y).values.reshape(-1,1)\n",
    "\n",
    "    if fit:\n",
    "        return np.array([x.item() for x in scaler.fit_transform(logged)])\n",
    "    \n",
    "    return np.array([x.item() for x in scaler.transform(logged)])\n",
    "\n",
    "target_scaler = MinMaxScaler()\n",
    "y = prep_target(y=data[target], scaler=target_scaler, fit=True)"
   ]
  },
  {
   "cell_type": "markdown",
   "metadata": {},
   "source": [
    "Split data:"
   ]
  },
  {
   "cell_type": "code",
   "execution_count": 7,
   "metadata": {},
   "outputs": [],
   "source": [
    "X_train, X_test, y_train, y_test = train_test_split(X, y, test_size=0.2)\n",
    "X_train, X_val, y_train, y_val = train_test_split(X, y, test_size=0.2)"
   ]
  },
  {
   "cell_type": "markdown",
   "metadata": {},
   "source": [
    "## Model"
   ]
  },
  {
   "cell_type": "markdown",
   "metadata": {},
   "source": [
    "Architecture:"
   ]
  },
  {
   "cell_type": "code",
   "execution_count": 86,
   "metadata": {},
   "outputs": [],
   "source": [
    "class MLPRegressor(nn.Module):\n",
    "\n",
    "    def __init__(self) -> None:\n",
    "        super().__init__()\n",
    "\n",
    "        self.a = nn.ReLU()\n",
    "\n",
    "        self.inlayer = nn.Linear(in_features=X.shape[1], out_features=128)\n",
    "        self.fc1 = nn.Linear(128, 128)\n",
    "        self.fc2 = nn.Linear(128, 64)\n",
    "        self.fc3 = nn.Linear(64, 32)\n",
    "        self.outlayer = nn.Linear(32, 1)\n",
    "\n",
    "    def forward(self, x):\n",
    "        out = self.a(self.inlayer(x))\n",
    "        out = self.a(self.fc1(out))\n",
    "        out = self.a(self.fc2(out))\n",
    "        out = self.a(self.fc3(out))\n",
    "        return self.outlayer(out)"
   ]
  },
  {
   "cell_type": "code",
   "execution_count": 87,
   "metadata": {},
   "outputs": [],
   "source": [
    "model = MLPRegressor()"
   ]
  },
  {
   "cell_type": "markdown",
   "metadata": {},
   "source": [
    "Loaders:"
   ]
  },
  {
   "cell_type": "code",
   "execution_count": 10,
   "metadata": {},
   "outputs": [],
   "source": [
    "X_train = torch.tensor(X_train, dtype=torch.float32).clone().detach()\n",
    "X_val = torch.tensor(X_val, dtype=torch.float32).clone().detach()\n",
    "X_test = torch.tensor(X_test, dtype=torch.float32).clone().detach()\n",
    "y_train = torch.tensor(y_train, dtype=torch.float32).clone().detach()\n",
    "y_val = torch.tensor(y_val, dtype=torch.float32).clone().detach()\n",
    "y_test = torch.tensor(y_test, dtype=torch.float32).clone().detach()\n",
    "\n",
    "train_loader = DataLoader(TensorDataset(X_train, y_train), batch_size=64, shuffle=True)\n",
    "val_loader = DataLoader(TensorDataset(X_val, y_val), batch_size=64, shuffle=False)\n",
    "test_loader = DataLoader(TensorDataset(X_test, y_test), batch_size=64, shuffle=False)"
   ]
  },
  {
   "cell_type": "markdown",
   "metadata": {},
   "source": [
    "Loss fun. and optimizer:"
   ]
  },
  {
   "cell_type": "code",
   "execution_count": 88,
   "metadata": {},
   "outputs": [],
   "source": [
    "criterion = nn.MSELoss()\n",
    "optimizer = optim.Adam(model.parameters(), lr=0.0001, weight_decay=0.0001)\n",
    "scheduler = ReduceLROnPlateau(optimizer, \"min\", patience=3, factor=0.5)"
   ]
  },
  {
   "cell_type": "markdown",
   "metadata": {},
   "source": [
    "Early stopping:"
   ]
  },
  {
   "cell_type": "code",
   "execution_count": 89,
   "metadata": {},
   "outputs": [],
   "source": [
    "class EarlyStopping:\n",
    "    \n",
    "    def __init__(self, patience=10, min_delta=0):\n",
    "        self.patience = patience\n",
    "        self.min_delta = min_delta\n",
    "        self.counter = 0\n",
    "        self.best_loss = float(\"Inf\")\n",
    "        self.early_stop = False\n",
    "\n",
    "    def __call__(self, val_loss):\n",
    "        if val_loss < self.best_loss - self.min_delta:\n",
    "            self.best_loss = val_loss\n",
    "            self.counter = 0\n",
    "        else:\n",
    "            self.counter += 1\n",
    "            if self.counter >= self.patience:\n",
    "                self.early_stop = True\n",
    "            \n",
    "\n",
    "stopper = EarlyStopping(patience=10)"
   ]
  },
  {
   "cell_type": "markdown",
   "metadata": {},
   "source": [
    "Checkpointing:"
   ]
  },
  {
   "cell_type": "code",
   "execution_count": 90,
   "metadata": {},
   "outputs": [],
   "source": [
    "def checkpoint(model) -> None:\n",
    "    torch.save(model.state_dict(), \"checkpoint.pth\")\n",
    "\n",
    "def restore_best_weights(model) -> None:\n",
    "    model.load_state_dict(torch.load(\"checkpoint.pth\"))"
   ]
  },
  {
   "cell_type": "markdown",
   "metadata": {},
   "source": [
    "### Training"
   ]
  },
  {
   "cell_type": "code",
   "execution_count": 91,
   "metadata": {},
   "outputs": [
    {
     "name": "stdout",
     "output_type": "stream",
     "text": [
      "Epoch 1 done: Training loss: 3.6698, Validation loss: 0.8510, Patience counter: 0\n",
      "Epoch 2 done: Training loss: 2.8104, Validation loss: 0.6789, Patience counter: 0\n",
      "Epoch 3 done: Training loss: 2.1217, Validation loss: 0.4836, Patience counter: 0\n",
      "Epoch 4 done: Training loss: 1.2084, Validation loss: 0.1682, Patience counter: 0\n",
      "Epoch 5 done: Training loss: 0.3103, Validation loss: 0.0624, Patience counter: 0\n",
      "Epoch 6 done: Training loss: 0.2110, Validation loss: 0.0483, Patience counter: 0\n",
      "Epoch 7 done: Training loss: 0.1548, Validation loss: 0.0401, Patience counter: 0\n",
      "Epoch 8 done: Training loss: 0.1311, Validation loss: 0.0344, Patience counter: 0\n",
      "Epoch 9 done: Training loss: 0.1146, Validation loss: 0.0303, Patience counter: 0\n",
      "Epoch 10 done: Training loss: 0.0998, Validation loss: 0.0264, Patience counter: 0\n",
      "Epoch 11 done: Training loss: 0.0895, Validation loss: 0.0238, Patience counter: 0\n",
      "Epoch 12 done: Training loss: 0.0819, Validation loss: 0.0219, Patience counter: 0\n",
      "Epoch 13 done: Training loss: 0.0751, Validation loss: 0.0201, Patience counter: 0\n",
      "Epoch 14 done: Training loss: 0.0689, Validation loss: 0.0186, Patience counter: 0\n",
      "Epoch 15 done: Training loss: 0.0642, Validation loss: 0.0174, Patience counter: 0\n",
      "Epoch 16 done: Training loss: 0.0585, Validation loss: 0.0160, Patience counter: 0\n",
      "Epoch 17 done: Training loss: 0.0564, Validation loss: 0.0152, Patience counter: 0\n",
      "Epoch 18 done: Training loss: 0.0537, Validation loss: 0.0144, Patience counter: 0\n",
      "Epoch 19 done: Training loss: 0.0501, Validation loss: 0.0147, Patience counter: 1\n",
      "Epoch 20 done: Training loss: 0.0475, Validation loss: 0.0134, Patience counter: 0\n",
      "Epoch 21 done: Training loss: 0.0467, Validation loss: 0.0131, Patience counter: 0\n",
      "Epoch 22 done: Training loss: 0.0449, Validation loss: 0.0127, Patience counter: 0\n",
      "Epoch 23 done: Training loss: 0.0438, Validation loss: 0.0126, Patience counter: 0\n",
      "Epoch 24 done: Training loss: 0.0425, Validation loss: 0.0126, Patience counter: 1\n",
      "Epoch 25 done: Training loss: 0.0427, Validation loss: 0.0119, Patience counter: 0\n",
      "Epoch 26 done: Training loss: 0.0415, Validation loss: 0.0120, Patience counter: 1\n",
      "Epoch 27 done: Training loss: 0.0384, Validation loss: 0.0115, Patience counter: 0\n",
      "Epoch 28 done: Training loss: 0.0378, Validation loss: 0.0111, Patience counter: 0\n",
      "Epoch 29 done: Training loss: 0.0371, Validation loss: 0.0111, Patience counter: 0\n",
      "Epoch 30 done: Training loss: 0.0387, Validation loss: 0.0106, Patience counter: 0\n",
      "Epoch 31 done: Training loss: 0.0355, Validation loss: 0.0107, Patience counter: 1\n",
      "Epoch 32 done: Training loss: 0.0363, Validation loss: 0.0104, Patience counter: 0\n",
      "Epoch 33 done: Training loss: 0.0344, Validation loss: 0.0104, Patience counter: 0\n",
      "Epoch 34 done: Training loss: 0.0332, Validation loss: 0.0104, Patience counter: 0\n",
      "Epoch 35 done: Training loss: 0.0335, Validation loss: 0.0102, Patience counter: 0\n",
      "Epoch 36 done: Training loss: 0.0323, Validation loss: 0.0100, Patience counter: 0\n",
      "Epoch 37 done: Training loss: 0.0314, Validation loss: 0.0098, Patience counter: 0\n",
      "Epoch 38 done: Training loss: 0.0309, Validation loss: 0.0097, Patience counter: 0\n",
      "Epoch 39 done: Training loss: 0.0304, Validation loss: 0.0095, Patience counter: 0\n",
      "Epoch 40 done: Training loss: 0.0300, Validation loss: 0.0095, Patience counter: 0\n",
      "Epoch 41 done: Training loss: 0.0293, Validation loss: 0.0097, Patience counter: 1\n",
      "Epoch 42 done: Training loss: 0.0295, Validation loss: 0.0098, Patience counter: 2\n",
      "Epoch 43 done: Training loss: 0.0295, Validation loss: 0.0095, Patience counter: 3\n",
      "Epoch 44 done: Training loss: 0.0277, Validation loss: 0.0092, Patience counter: 0\n",
      "Epoch 45 done: Training loss: 0.0275, Validation loss: 0.0093, Patience counter: 1\n",
      "Epoch 46 done: Training loss: 0.0270, Validation loss: 0.0089, Patience counter: 0\n",
      "Epoch 47 done: Training loss: 0.0265, Validation loss: 0.0088, Patience counter: 0\n",
      "Epoch 48 done: Training loss: 0.0256, Validation loss: 0.0087, Patience counter: 0\n",
      "Epoch 49 done: Training loss: 0.0259, Validation loss: 0.0089, Patience counter: 1\n",
      "Epoch 50 done: Training loss: 0.0269, Validation loss: 0.0088, Patience counter: 2\n",
      "Epoch 51 done: Training loss: 0.0245, Validation loss: 0.0089, Patience counter: 3\n",
      "Epoch 52 done: Training loss: 0.0241, Validation loss: 0.0084, Patience counter: 0\n",
      "Epoch 53 done: Training loss: 0.0237, Validation loss: 0.0083, Patience counter: 0\n",
      "Epoch 54 done: Training loss: 0.0234, Validation loss: 0.0083, Patience counter: 1\n",
      "Epoch 55 done: Training loss: 0.0226, Validation loss: 0.0083, Patience counter: 2\n",
      "Epoch 56 done: Training loss: 0.0217, Validation loss: 0.0082, Patience counter: 0\n",
      "Epoch 57 done: Training loss: 0.0229, Validation loss: 0.0081, Patience counter: 0\n",
      "Epoch 58 done: Training loss: 0.0211, Validation loss: 0.0081, Patience counter: 0\n",
      "Epoch 59 done: Training loss: 0.0204, Validation loss: 0.0080, Patience counter: 0\n",
      "Epoch 60 done: Training loss: 0.0201, Validation loss: 0.0084, Patience counter: 1\n",
      "Epoch 61 done: Training loss: 0.0203, Validation loss: 0.0079, Patience counter: 0\n",
      "Epoch 62 done: Training loss: 0.0198, Validation loss: 0.0078, Patience counter: 0\n",
      "Epoch 63 done: Training loss: 0.0192, Validation loss: 0.0080, Patience counter: 1\n",
      "Epoch 64 done: Training loss: 0.0190, Validation loss: 0.0079, Patience counter: 2\n",
      "Epoch 65 done: Training loss: 0.0187, Validation loss: 0.0084, Patience counter: 3\n",
      "Epoch 66 done: Training loss: 0.0184, Validation loss: 0.0078, Patience counter: 0\n",
      "Epoch 67 done: Training loss: 0.0175, Validation loss: 0.0077, Patience counter: 0\n",
      "Epoch 68 done: Training loss: 0.0170, Validation loss: 0.0078, Patience counter: 1\n",
      "Epoch 69 done: Training loss: 0.0166, Validation loss: 0.0077, Patience counter: 0\n",
      "Epoch 70 done: Training loss: 0.0162, Validation loss: 0.0078, Patience counter: 1\n",
      "Epoch 71 done: Training loss: 0.0161, Validation loss: 0.0077, Patience counter: 0\n",
      "Epoch 72 done: Training loss: 0.0162, Validation loss: 0.0076, Patience counter: 0\n",
      "Epoch 73 done: Training loss: 0.0154, Validation loss: 0.0080, Patience counter: 1\n",
      "Epoch 74 done: Training loss: 0.0151, Validation loss: 0.0076, Patience counter: 0\n",
      "Epoch 75 done: Training loss: 0.0147, Validation loss: 0.0076, Patience counter: 1\n",
      "Epoch 76 done: Training loss: 0.0147, Validation loss: 0.0077, Patience counter: 2\n",
      "Epoch 77 done: Training loss: 0.0140, Validation loss: 0.0075, Patience counter: 0\n",
      "Epoch 78 done: Training loss: 0.0141, Validation loss: 0.0078, Patience counter: 1\n",
      "Epoch 79 done: Training loss: 0.0133, Validation loss: 0.0075, Patience counter: 0\n",
      "Epoch 80 done: Training loss: 0.0128, Validation loss: 0.0074, Patience counter: 0\n",
      "Epoch 81 done: Training loss: 0.0128, Validation loss: 0.0074, Patience counter: 0\n",
      "Epoch 82 done: Training loss: 0.0133, Validation loss: 0.0074, Patience counter: 1\n",
      "Epoch 83 done: Training loss: 0.0132, Validation loss: 0.0077, Patience counter: 2\n",
      "Epoch 84 done: Training loss: 0.0126, Validation loss: 0.0074, Patience counter: 3\n",
      "Epoch 85 done: Training loss: 0.0133, Validation loss: 0.0074, Patience counter: 4\n",
      "Epoch 86 done: Training loss: 0.0120, Validation loss: 0.0074, Patience counter: 0\n",
      "Epoch 87 done: Training loss: 0.0111, Validation loss: 0.0073, Patience counter: 0\n",
      "Epoch 88 done: Training loss: 0.0112, Validation loss: 0.0074, Patience counter: 1\n",
      "Epoch 89 done: Training loss: 0.0109, Validation loss: 0.0074, Patience counter: 2\n",
      "Epoch 90 done: Training loss: 0.0108, Validation loss: 0.0074, Patience counter: 3\n",
      "Epoch 91 done: Training loss: 0.0106, Validation loss: 0.0073, Patience counter: 0\n",
      "Epoch 92 done: Training loss: 0.0108, Validation loss: 0.0073, Patience counter: 1\n",
      "Epoch 93 done: Training loss: 0.0105, Validation loss: 0.0073, Patience counter: 2\n",
      "Epoch 94 done: Training loss: 0.0103, Validation loss: 0.0073, Patience counter: 0\n",
      "Epoch 95 done: Training loss: 0.0105, Validation loss: 0.0075, Patience counter: 1\n",
      "Epoch 96 done: Training loss: 0.0104, Validation loss: 0.0074, Patience counter: 2\n",
      "Epoch 97 done: Training loss: 0.0099, Validation loss: 0.0073, Patience counter: 3\n",
      "Epoch 98 done: Training loss: 0.0100, Validation loss: 0.0073, Patience counter: 0\n",
      "Epoch 99 done: Training loss: 0.0096, Validation loss: 0.0073, Patience counter: 1\n",
      "Epoch 100 done: Training loss: 0.0098, Validation loss: 0.0073, Patience counter: 2\n",
      "Epoch 101 done: Training loss: 0.0098, Validation loss: 0.0075, Patience counter: 3\n",
      "Epoch 102 done: Training loss: 0.0097, Validation loss: 0.0073, Patience counter: 4\n",
      "Epoch 103 done: Training loss: 0.0092, Validation loss: 0.0074, Patience counter: 5\n",
      "Epoch 104 done: Training loss: 0.0093, Validation loss: 0.0073, Patience counter: 6\n",
      "Epoch 105 done: Training loss: 0.0092, Validation loss: 0.0073, Patience counter: 7\n",
      "Epoch 106 done: Training loss: 0.0092, Validation loss: 0.0073, Patience counter: 8\n",
      "Epoch 107 done: Training loss: 0.0091, Validation loss: 0.0074, Patience counter: 9\n",
      "Epoch 108 done: Training loss: 0.0089, Validation loss: 0.0073, Patience counter: 10\n",
      "Patience exceeded, stopping training & restoring best weights...\n"
     ]
    },
    {
     "name": "stderr",
     "output_type": "stream",
     "text": [
      "/tmp/ipykernel_20860/3484606476.py:5: FutureWarning: You are using `torch.load` with `weights_only=False` (the current default value), which uses the default pickle module implicitly. It is possible to construct malicious pickle data which will execute arbitrary code during unpickling (See https://github.com/pytorch/pytorch/blob/main/SECURITY.md#untrusted-models for more details). In a future release, the default value for `weights_only` will be flipped to `True`. This limits the functions that could be executed during unpickling. Arbitrary objects will no longer be allowed to be loaded via this mode unless they are explicitly allowlisted by the user via `torch.serialization.add_safe_globals`. We recommend you start setting `weights_only=True` for any use case where you don't have full control of the loaded file. Please open an issue on GitHub for any issues related to this experimental feature.\n",
      "  model.load_state_dict(torch.load(\"checkpoint.pth\"))\n"
     ]
    }
   ],
   "source": [
    "num_epochs = 1000\n",
    "\n",
    "losses = []\n",
    "\n",
    "for epoch in range(num_epochs):\n",
    "\n",
    "    # Train step:\n",
    "\n",
    "    model.train()\n",
    "    epoch_train_loss = 0\n",
    "    for features, target in train_loader:\n",
    "\n",
    "        output = model(features).squeeze()\n",
    "        loss = criterion(output, target)\n",
    "\n",
    "        optimizer.zero_grad()\n",
    "        loss.backward()\n",
    "        optimizer.step()\n",
    "\n",
    "        epoch_train_loss += loss.item()\n",
    "    \n",
    "    # Validation step:\n",
    "\n",
    "    with torch.no_grad():\n",
    "        epoch_val_loss = 0\n",
    "        for features, target in val_loader:\n",
    "            pred = model(features).squeeze()\n",
    "            loss = criterion(pred, target)\n",
    "            epoch_val_loss += loss.item()\n",
    "    \n",
    "    # Housekeeping:\n",
    "\n",
    "    stopper(epoch_val_loss)\n",
    "    scheduler.step(epoch_val_loss)\n",
    "\n",
    "    print(f\"Epoch {epoch+1} done: Training loss: {epoch_train_loss:.4f}, Validation loss: {epoch_val_loss:.4f}, Patience counter: {stopper.counter}\")\n",
    "    losses.append({\"epoch\": epoch+1, \"training\": epoch_train_loss, \"validation\": epoch_val_loss})\n",
    "        \n",
    "    if stopper.counter == 0:\n",
    "        checkpoint(model)\n",
    "        \n",
    "    if stopper.early_stop:\n",
    "        print(f\"Patience exceeded, stopping training & restoring best weights...\")\n",
    "        restore_best_weights(model)\n",
    "        break"
   ]
  },
  {
   "cell_type": "code",
   "execution_count": 92,
   "metadata": {},
   "outputs": [
    {
     "data": {
      "text/plain": [
       "Text(0.5, 0.98, 'Training/Validation Loss for Original Model')"
      ]
     },
     "execution_count": 92,
     "metadata": {},
     "output_type": "execute_result"
    },
    {
     "data": {
      "image/png": "[encoded data removed]",
      "text/plain": [
       "<Figure size 640x480 with 1 Axes>"
      ]
     },
     "metadata": {},
     "output_type": "display_data"
    }
   ],
   "source": [
    "sns.lineplot(x=\"epoch\", y=\"Loss\", hue=\"Type\", data=pd.DataFrame(losses).melt(id_vars=\"epoch\", value_vars=[\"training\", \"validation\"], var_name=\"Type\", value_name=\"Loss\"))\n",
    "plt.suptitle(\"Training/Validation Loss for Original Model\")"
   ]
  },
  {
   "cell_type": "code",
   "execution_count": 93,
   "metadata": {},
   "outputs": [],
   "source": [
    "def collect_preds(model, test_loader):\n",
    "    model.eval()\n",
    "    predictions = []\n",
    "    actuals = []\n",
    "    \n",
    "    with torch.no_grad():\n",
    "        for X, y in test_loader:\n",
    "            outputs = model(X).squeeze()\n",
    "            predictions.extend(outputs.cpu().numpy())\n",
    "            actuals.extend(y.cpu().numpy())\n",
    "            # ^ have to move back to CPU for numpy\n",
    "\n",
    "    return np.array(predictions), np.array(actuals)\n",
    "\n",
    "def collect_metrics(predictions, actuals):\n",
    "    return {\n",
    "        \"MSE\": mean_squared_error(actuals, predictions),\n",
    "        \"RMSE\": np.sqrt(mean_squared_error(actuals, predictions)),\n",
    "        \"MAE\": mean_absolute_error(actuals, predictions),\n",
    "        \"R-squared\": r2_score(actuals, predictions)\n",
    "    }"
   ]
  },
  {
   "cell_type": "code",
   "execution_count": 94,
   "metadata": {},
   "outputs": [],
   "source": [
    "predictions, actuals = collect_preds(model, test_loader)"
   ]
  },
  {
   "cell_type": "code",
   "execution_count": 95,
   "metadata": {},
   "outputs": [
    {
     "data": {
      "text/plain": [
       "{'MSE': 0.0007555445,\n",
       " 'RMSE': 0.02748717,\n",
       " 'MAE': 0.01873825,\n",
       " 'R-squared': 0.9609278514122277}"
      ]
     },
     "execution_count": 95,
     "metadata": {},
     "output_type": "execute_result"
    }
   ],
   "source": [
    "collect_metrics(predictions, actuals)"
   ]
  },
  {
   "cell_type": "code",
   "execution_count": 96,
   "metadata": {},
   "outputs": [
    {
     "data": {
      "image/png": "[encoded data removed]",
      "text/plain": [
       "<Figure size 1000x600 with 1 Axes>"
      ]
     },
     "metadata": {},
     "output_type": "display_data"
    }
   ],
   "source": [
    "plt.figure(figsize=(10, 6))\n",
    "sns.scatterplot(x=actuals, y=predictions, color=\"black\", s=10)\n",
    "# Main diagonal:\n",
    "min_val = min(min(actuals), min(predictions))\n",
    "max_val = max(max(actuals), max(predictions))\n",
    "plt.plot([min_val, max_val], [min_val, max_val], 'r--', linewidth=1)\n",
    "\n",
    "plt.xlabel('Actual Values')\n",
    "plt.ylabel('Predicted Values')\n",
    "plt.title('Actual vs. Predicted Values\\n(Test Set)')\n",
    "plt.show()"
   ]
  }
 ],
 "metadata": {
  "kernelspec": {
   "display_name": "base",
   "language": "python",
   "name": "python3"
  },
  "language_info": {
   "codemirror_mode": {
    "name": "ipython",
    "version": 3
   },
   "file_extension": ".py",
   "mimetype": "text/x-python",
   "name": "python",
   "nbconvert_exporter": "python",
   "pygments_lexer": "ipython3",
   "version": "3.11.5"
  }
 },
 "nbformat": 4,
 "nbformat_minor": 2
}
